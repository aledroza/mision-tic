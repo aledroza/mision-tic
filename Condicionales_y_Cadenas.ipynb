{
  "nbformat": 4,
  "nbformat_minor": 0,
  "metadata": {
    "colab": {
      "name": "Condicionales y Cadenas.ipynb",
      "provenance": [],
      "collapsed_sections": [
        "QsYMoJW077iQ",
        "BnmL8dxYKPE9"
      ],
      "include_colab_link": true
    },
    "kernelspec": {
      "name": "python3",
      "display_name": "Python 3"
    },
    "language_info": {
      "name": "python"
    }
  },
  "cells": [
    {
      "cell_type": "markdown",
      "metadata": {
        "id": "view-in-github",
        "colab_type": "text"
      },
      "source": [
        "<a href=\"https://colab.research.google.com/github/aledroza/mision-tic/blob/main/Condicionales_y_Cadenas.ipynb\" target=\"_parent\"><img src=\"https://colab.research.google.com/assets/colab-badge.svg\" alt=\"Open In Colab\"/></a>"
      ]
    },
    {
      "cell_type": "markdown",
      "metadata": {
        "id": "g3oLx2CC4QSH"
      },
      "source": [
        "# Laboratorio 3.2\n",
        "\n",
        "*Elaborado por Oscar Franco-Bedoya*\n",
        "\n",
        "*`Proyecto Mision TIC 2021*\n",
        "\n",
        "\n",
        "## Objetivo\n",
        "Implementar programas aplicando el concepto de control de flujo condicional en  ejemplos básicos\n",
        "\n",
        "## Dime lo que lees\n",
        "La editorial `oveja negra` desea una aplicación que les permita  verificar si el título de un libro esta bien escrito, es decir cada palabra inicia con mayúsculas.\n"
      ]
    },
    {
      "cell_type": "code",
      "metadata": {
        "id": "bfJ7Qm4E2XoC",
        "colab": {
          "base_uri": "https://localhost:8080/"
        },
        "outputId": "f1f4d371-df1c-420f-fefe-499c4fdafb9b"
      },
      "source": [
        "\"\"\" Laboratorio 3.2 Dime lo que lees \n",
        "    Oscar Franco-Bedoya\n",
        "    Mayo 10-2021 \n",
        "\"\"\"\n",
        "\n",
        "\n",
        "# Definición de Funciones (Dividir)\n",
        "def verificar_titulo(titulo_libro):\n",
        "  \"\"\" \n",
        "  Parameters\n",
        "  ----------\n",
        "  titulo_libro:str\n",
        "     una cadena con el titulo de un libro\n",
        "  -------\n",
        "  Return\n",
        "  -------\n",
        "     valido :bool\n",
        "         retorna verdadero si el titulo esta bien escrito   \n",
        "  \"\"\"  \n",
        " \n",
        "  if titulo_libro.istitle():\n",
        "    print(titulo_libro, \"- Muy bien escrito!\")\n",
        "    return True\n",
        "  else:\n",
        "    print(titulo_libro, \"- Los títulos de libros van con mayusculas\")\n",
        "    return False\n",
        "\n",
        "\n",
        "#======================================================================\n",
        "#   Algoritmo principal Punto de entrada a la aplicación (Conquistar)\n",
        "# =====================================================================\n",
        "\n",
        "#lectura título del Libro\n",
        "libro_favorito = input(\"¿Cual es tu libro favorito?: \")\n",
        "verificar_titulo(libro_favorito)\n",
        "\n"
      ],
      "execution_count": 1,
      "outputs": [
        {
          "output_type": "stream",
          "text": [
            "¿Cual es tu libro favorito?: aplicaciones neurolinguisticas en el tratamiento de enfermedades clinicas\n",
            "aplicaciones neurolinguisticas en el tratamiento de enfermedades clinicas - Los títulos de libros van con mayusculas\n"
          ],
          "name": "stdout"
        },
        {
          "output_type": "execute_result",
          "data": {
            "text/plain": [
              "False"
            ]
          },
          "metadata": {
            "tags": []
          },
          "execution_count": 1
        }
      ]
    },
    {
      "cell_type": "markdown",
      "metadata": {
        "id": "QsYMoJW077iQ"
      },
      "source": [
        "## Dame un numero\n",
        "Una terminación muy abrupta de un programa que es además muy común es que cuando se pide un numero a un usuario y este digita caracteres no válidos como letras, por ejemplo, se interrumpe la ejecución del programa mostrando errores incomprensibles para el usuario común. Vamos a implementar una función que valida si una cadena ingresada es o no un número entero.  "
      ]
    },
    {
      "cell_type": "code",
      "metadata": {
        "id": "YbfknfX474RK",
        "colab": {
          "base_uri": "https://localhost:8080/"
        },
        "outputId": "8ff7cee4-102c-4ed0-a10a-cc5c968d279e"
      },
      "source": [
        "\"\"\" Laboratorio 3.2 Dame un número \n",
        "    Oscar Franco-Bedoya\n",
        "    Mayo 10-2021 \n",
        "\"\"\"\n",
        "\n",
        "\n",
        "# Definición de Funciones (Dividir)\n",
        "def validar_es_entero(numero_entero):\n",
        "  \"\"\" \n",
        "  Parameters\n",
        "  ----------\n",
        "  numero:str\n",
        "     una cadena \n",
        "  -------\n",
        "  Return\n",
        "  -------\n",
        "     valido :bool\n",
        "         retorna verdadero si la cadena tiene un numero entero válido   \n",
        "  \"\"\"  \n",
        "  if numero_entero.isdigit():\n",
        "    print(numero_entero, \"Digitaste un entero positivo\")\n",
        "  elif numero_entero[0]==\"-\":\n",
        "    print(numero_entero, \"Digitaste un entero negativo\")\n",
        "  else:\n",
        "    print(numero_entero, \"Parece ser una palabra no un numero\")\n",
        "\n",
        "    return \n",
        "\n",
        "#======================================================================\n",
        "#   Algoritmo principal Punto de entrada a la aplicación (Conquistar)\n",
        "# =====================================================================\n",
        "\n",
        "#lectura del número entero\n",
        "numero_entero = input(\"Ingresa un numero entero: \")\n",
        "validar_es_entero(numero_entero)"
      ],
      "execution_count": 10,
      "outputs": [
        {
          "output_type": "stream",
          "text": [
            "Ingresa un numero entero: 1e\n",
            "1e Parece ser una palabra no un numero\n"
          ],
          "name": "stdout"
        }
      ]
    },
    {
      "cell_type": "markdown",
      "metadata": {
        "id": "OMtQ5zNhGvxG"
      },
      "source": [
        "## Cual es el error\n",
        "Este programa no funciona, ¿Sabes porque?"
      ]
    },
    {
      "cell_type": "code",
      "metadata": {
        "id": "z3JdPzTSG3G6",
        "colab": {
          "base_uri": "https://localhost:8080/"
        },
        "outputId": "1faece89-e2cd-493f-c20f-d759c7676812"
      },
      "source": [
        "x = 5 # le asigna 5 a la variable \n",
        "\n",
        "if x == 5: # Compara si x es 5\n",
        "    print('Efectivamente x es igual a 5')\n"
      ],
      "execution_count": 3,
      "outputs": [
        {
          "output_type": "stream",
          "text": [
            "Efectivamente x es igual a 5\n"
          ],
          "name": "stdout"
        }
      ]
    },
    {
      "cell_type": "markdown",
      "metadata": {
        "id": "LYWvSftMHrWW"
      },
      "source": [
        "## Soy humano\n",
        "Una estrategia para verificar que sea realmente una persona la que está entrando a una aplicación es que digite un mensaje predefinido para que la aplicación lo valide.\n",
        "Eso es lo que hace la siguiente función\n"
      ]
    },
    {
      "cell_type": "code",
      "metadata": {
        "id": "4Arz8hCTIZ0L",
        "colab": {
          "base_uri": "https://localhost:8080/"
        },
        "outputId": "5246540a-f648-4b58-8968-270ea3f962e6"
      },
      "source": [
        "\"\"\" Laboratorio 3.2 Soy humano \n",
        "    Oscar Franco-Bedoya\n",
        "    Mayo 10-2021 \n",
        "\"\"\"\n",
        "MENSAJE = \"EL CIELO ES AZUL\"\n",
        "\n",
        "# Definición de Funciones (Dividir)\n",
        "def validar_es_humano():\n",
        "  \"\"\" \n",
        "  Return\n",
        "  -------\n",
        "     valido :bool\n",
        "         retorna verdadero si la cadena ingresada correspondecon el mensaje  \n",
        "  \"\"\"  \n",
        "\n",
        "  msg= input(\"Digita \"+MENSAJE+\":\")\n",
        "  if msg.upper() == MENSAJE:   # Convierte la cadena digitada a mayúsculas\n",
        "    print(\"Pareces human@\")\n",
        "    return True\n",
        "  else:\n",
        "    print(\"No es lo que esperaba\")\n",
        "    return False\n",
        "\n",
        "#======================================================================\n",
        "#   Algoritmo principal Punto de entrada a la aplicación (Conquistar)\n",
        "# =====================================================================\n",
        "validar_es_humano()"
      ],
      "execution_count": 3,
      "outputs": [
        {
          "output_type": "stream",
          "text": [
            "Digita EL CIELO ES AZUL:la verdad es morado\n",
            "No es lo que esperaba\n"
          ],
          "name": "stdout"
        },
        {
          "output_type": "execute_result",
          "data": {
            "text/plain": [
              "False"
            ]
          },
          "metadata": {
            "tags": []
          },
          "execution_count": 3
        }
      ]
    },
    {
      "cell_type": "markdown",
      "metadata": {
        "id": "BnmL8dxYKPE9"
      },
      "source": [
        "## Probando suerte\n",
        "\n",
        "Vamos a hacer nuestro segundo videojuego, después del de los dados, vamos a hacer un programa que genere un numero aleatorio entre 1 y 10 para ver si el usuario  lo puede adivinar."
      ]
    },
    {
      "cell_type": "code",
      "metadata": {
        "id": "t67814f6PHdJ",
        "colab": {
          "base_uri": "https://localhost:8080/"
        },
        "outputId": "668baabe-5b3f-4620-b78f-52f78fbc7046"
      },
      "source": [
        "\"\"\" Laboratorio 3.2 Dime lo que lees \n",
        "    Oscar Franco-Bedoya\n",
        "    Mayo 10-2021 \n",
        "\"\"\"\n",
        "# importar módulos\n",
        "# TODO: 1) importar la libreria que tiene la función para generar números aleatorios\n",
        "import random\n",
        "\n",
        "# Definición de Funciones (Dividir)\n",
        "\n",
        "def probar_suerte(numero,dado):\n",
        "  if numero == dado:\n",
        "      respuesta=' haz adivinado el numero'\n",
        "  else:\n",
        "      respuesta='vuelve a intentar, no haz adivinado'\n",
        "    #TODO: 2) Implementa la parte que verifica si adivina\n",
        " \n",
        "    #TODO: 2\n",
        "   \n",
        "  return  respuesta\n",
        "\n",
        "\n",
        "#======================================================================\n",
        "#   Algoritmo principal Punto de entrada a la aplicación (Conquistar)\n",
        "# =====================================================================\n",
        "#TODO: 3)\n",
        "dado = random.randint(1,10) \n",
        "numero=int(input('adivina el valor del dado:'))\n",
        "suerte=probar_suerte(numero,dado)\n",
        "print('el resultado dado',dado)\n",
        "print('su suerte fue:',suerte)\n",
        "\n"
      ],
      "execution_count": 37,
      "outputs": [
        {
          "output_type": "stream",
          "text": [
            "adivina el valor del dado:3\n",
            "el resultado dado 3\n",
            "su suerte fue:  haz adivinado el numero\n"
          ],
          "name": "stdout"
        }
      ]
    },
    {
      "cell_type": "markdown",
      "metadata": {
        "id": "llDMnMkMQoxm"
      },
      "source": [
        "<details>\n",
        "<summary>Dale a la flecha si necesitas una pista</summary>\n",
        "<pre><code>\n",
        "1) Es la misma que usaste para el ejercicio de los dados\n",
        "2) ¿que tal un algoritmo antes?\n",
        "    . obtener el nuumero aleatorio\n",
        "    . verificar si es igual al entrado\n",
        " 3) Un mensaje de error estaría bien   \n",
        "<code><pre>\n",
        "</details>"
      ]
    },
    {
      "cell_type": "markdown",
      "metadata": {
        "id": "b5VFyrfRfi4J"
      },
      "source": [
        "# Gordo, ¿Quien yo? Si tu\n",
        "El índice de masa corporal **(IMC)** que calculamos es un índice muy importante para diagnosticar el sobre peso, sin embargo el valor en si mismo debe ser interpretado de acuerdo a la tabla tomada de este sitio [IMC](https://cuidateplus.marca.com/alimentacion/diccionario/indice-masa-corporal-imc.html)\n",
        "\n",
        "\n",
        "| Rango IMC |Diagnóstico paciente | \n",
        "| :---: | :---: | \n",
        "| 15 o menos | Delgadez muy severa |\n",
        "| 15 a 15.9 | Delgadez severa |\n",
        "| 16 a 18.4 | Delgadez |\n",
        "| 18.5 a 24.9 | Peso saludable |\n",
        "| 25 a 29.9 | Sobrepeso |\n",
        "| 30 a 34.9 | Obesidad moderada |\n",
        "| 35 a 39.9 | Obesidad severa |\n",
        "| 40 0 mas | Obesidad muy severa (mórbida) |\n",
        "\n",
        "\n",
        "\n"
      ]
    },
    {
      "cell_type": "code",
      "metadata": {
        "id": "oUZVTyVBi3VJ",
        "colab": {
          "base_uri": "https://localhost:8080/"
        },
        "outputId": "fc21f65b-fd16-49df-ae8f-25fbb1f39bec"
      },
      "source": [
        "\"\"\" Laboratorio 3.2 IMC con diagnóstico \n",
        "    Oscar Franco-Bedoya\n",
        "    Mayo 10-2021 \n",
        "\"\"\"\n",
        "import math\n",
        "# Definición de Funciones (Dividir)\n",
        "#TODO: 1) Copiar la función que calcula el IMC\n",
        "def diagnosticar_imc(peso,altura):\n",
        "  \"\"\"\n",
        "  IMC=peso(kg)/altura(mt)2\n",
        "  \"\"\"\n",
        "  imc=peso/((altura)**2)\n",
        "  return imc\n",
        "#TODO: 2) Definir la funcion que diagnostica al paciente\n",
        "def diagnosticar_paciente(valor_imc):\n",
        "  \"\"\"\n",
        "  diagnosticar paciente\n",
        "  \"\"\"\n",
        "  if valor_imc<15.0:\n",
        "    paciente=\"delgadez muy severa\"\n",
        "  elif 15.0<valor_imc and valor_imc<=15.9:\n",
        "    paciente=\"delgadez severa\"\n",
        "  elif 16.0<valor_imc and valor_imc<=18.4:\n",
        "    paciente=\"delgadez\"\n",
        "  elif 18.5<=valor_imc and valor_imc<=24.9:\n",
        "    paciente=\"peso saludable\"\n",
        "  elif 25.0<=valor_imc and valor_imc<=29.9:\n",
        "    paciente=\"sobrepeso\"\n",
        "  elif 30.0<=valor_imc and valor_imc<=34.9:\n",
        "    paciente=\"obesidad moderada\"\n",
        "  elif 35.0<=valor_imc and valor_imc<=39.9:\n",
        "    paciente=\"obesidad muy severa(morbida)\"\n",
        "  else:\n",
        "    paciente=\"fuera de rango\"\n",
        "    return paciente\n",
        "\n",
        "#======================================================================\n",
        "#   Algoritmo principal Punto de entrada a la aplicación (Conquistar)\n",
        "# =====================================================================\n",
        "#TODO: 3)\n",
        "peso=float(input('ingresa el peso del paciente en kg :'))\n",
        "altura=float(input('ingresa la altura en mt del paciente:'))\n",
        "valor_imc=float(diagnosticar_imc(peso,altura))\n",
        "diagnostico=diagnosticar_paciente(valor_imc)\n",
        "print('su imc es=',valor_imc,'su diagnostico es:',diagnostico)\n",
        "\n",
        "\n",
        "\n",
        "\n",
        "\n",
        "\n"
      ],
      "execution_count": 67,
      "outputs": [
        {
          "output_type": "stream",
          "text": [
            "ingresa el peso del paciente en kg :80\n",
            "ingresa la altura en mt del paciente:1.80\n",
            "su imc es= 24.691358024691358 su diagnostico es: None\n"
          ],
          "name": "stdout"
        }
      ]
    },
    {
      "cell_type": "markdown",
      "metadata": {
        "id": "_nIjVMRrjFz0"
      },
      "source": [
        "<details>\n",
        "<summary>Dale a la flecha si necesitas una pista</summary>\n",
        "<pre><code>\n",
        "1)  ctrl-c ctrl-v ;-)\n",
        "2) que tal si la defines como def diagnoisticar_imc(valor_imc)\n",
        "3) invoca ambas funciones correctamente \n",
        "\n",
        "<code><pre>\n",
        "</details>\n",
        "\n",
        "---\n",
        "\n",
        "FINAL DEL LABORATORIO\n",
        "\n",
        "---"
      ]
    }
  ]
}