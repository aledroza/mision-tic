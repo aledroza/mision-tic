{
  "nbformat": 4,
  "nbformat_minor": 0,
  "metadata": {
    "colab": {
      "name": "Expresiones.ipynb",
      "provenance": [],
      "collapsed_sections": [],
      "include_colab_link": true
    },
    "kernelspec": {
      "name": "python3",
      "display_name": "Python 3"
    },
    "language_info": {
      "name": "python"
    }
  },
  "cells": [
    {
      "cell_type": "markdown",
      "metadata": {
        "id": "view-in-github",
        "colab_type": "text"
      },
      "source": [
        "<a href=\"https://colab.research.google.com/github/aledroza/mision-tic/blob/main/Expresiones.ipynb\" target=\"_parent\"><img src=\"https://colab.research.google.com/assets/colab-badge.svg\" alt=\"Open In Colab\"/></a>"
      ]
    },
    {
      "cell_type": "markdown",
      "metadata": {
        "id": "HXwJzI0u2Fev"
      },
      "source": [
        "# Laboratorio 1.2\n",
        "\n",
        "*Elaborado por Oscar Franco-Bedoya*\n",
        "\n",
        "*`Proyecto Mision TIC 202`*\n",
        "\n",
        "\n",
        "## Objetivo\n",
        "En este laboratorio vamos a poner en práctica el manejo de expresiones en Python, específicamente con operadores aritméticos. Para ello resolveremos algunos casos prácticos y tambien evaluaremos expresiones aritméticas para familiarizarnos con ellas. \n",
        "\n",
        "## Temperatura\n",
        "Con la epidemia generada por el virus COVID-19 se incrementó la importación de termómetros digitales, sin embargo, un lote de más de 10000 termómetros solo toma la temperatura en grados Fahrenheit y se necesita convertirlos a grados centígrados. Afortunadamente  nos han dado la fórmula de conversión\n",
        "\n",
        "$$ C=(F-32)*\\frac{5}{9} $$\n",
        "\n",
        "El siguiente es el programa que realiza la conversión\n",
        "\n",
        "*Recuerda que se ejecuta con el icono de play en la esquina la izquierda*"
      ]
    },
    {
      "cell_type": "code",
      "metadata": {
        "id": "J_1g8Pby17iU",
        "outputId": "e10b0dcc-c0ff-4dea-93f2-2c74b97cd36e",
        "colab": {
          "base_uri": "https://localhost:8080/"
        }
      },
      "source": [
        "# código fuente para convertir grados fahrenheit  a grados centígrados\n",
        "f=50 #define la variable f con la asignación del valor\n",
        "c=(f-32)*5/9  #conversión\n",
        "print(f,\"Grados fahrenheit es equivalente a\",c,\"grados centígrados\")"
      ],
      "execution_count": 45,
      "outputs": [
        {
          "output_type": "stream",
          "text": [
            "50 Grados fahrenheit es equivalente a 10.0 grados centígrados\n"
          ],
          "name": "stdout"
        }
      ]
    },
    {
      "cell_type": "markdown",
      "metadata": {
        "id": "cfZ14BDZ7bWq"
      },
      "source": [
        "## Temperatura dos\n",
        "Dado el éxito del programa anterior, nos han solicitado un nuevo programa que convierta la temperatura de grados centígrados a grados Fahrenheit. La fórmula de conversión es la siguiente\n",
        "\n",
        "$$ F=(C*\\frac{9}{5})+32 $$\n",
        "\n",
        "Escribe el programa en la siguiente celda"
      ]
    },
    {
      "cell_type": "code",
      "metadata": {
        "id": "dFnLJpNU9MMF",
        "outputId": "22a7edd0-86f5-4927-d3ed-a10c3b319e9c",
        "colab": {
          "base_uri": "https://localhost:8080/"
        }
      },
      "source": [
        "# codifica aqui\n",
        "c=26\n",
        "f=(c*9/5)+32\n",
        "print(c,'°C =',f,'°f')"
      ],
      "execution_count": 46,
      "outputs": [
        {
          "output_type": "stream",
          "text": [
            "26 °C = 78.8 °f\n"
          ],
          "name": "stdout"
        }
      ]
    },
    {
      "cell_type": "markdown",
      "metadata": {
        "id": "nvy6bEB995rz"
      },
      "source": [
        "<details>\n",
        "<summary>Dale a la flecha si necesitas una pista</summary>\n",
        "<pre><code>\n",
        "c=10\n",
        "f= #completa con la expresión\n",
        "print(c,\"Grados centigrados es equivalente a\",f,\"grados Farenheit\")\n",
        "<code><pre>\n",
        "</details>"
      ]
    },
    {
      "cell_type": "markdown",
      "metadata": {
        "id": "0CJzw0KyIO1G"
      },
      "source": [
        "## Orden de las operaciones\n",
        "Cuando mas de un operador aparece en una expresión, el órden en que se evalúan depende de las **reglas de precedencia** Que son\n",
        "\n",
        "\n",
        "1.   Los paréntesis tienen el mayor valor de procedencia\n",
        "2.   El siguiente puesto es para la exponenciación\n",
        "3.   Multiplicación y División tienen la misma precedencia\n",
        "4.   Por último están la suma y la resta\n",
        "5.   Si en la expresión hay operadores con la misma presedencia, se evalúan de izquierda a derecha\n"
      ]
    },
    {
      "cell_type": "markdown",
      "metadata": {
        "id": "K_OwNDYCIXUX"
      },
      "source": [
        "### Ejercicios presedencia\n",
        "\n",
        "Calcula el resultado de estas expresiones, antes de caer en la tentación de probarlas en Python.Luego de que lo hagas, cae en la tentación.\n",
        "*  $2*(3-1)$\n",
        "*   $(1+1)**(5-2)$\n",
        "*   $400*100/(20-10+50)$\n",
        "*   $2**1+1$\n",
        "*   $3*1**3$\n",
        "*   $2*3-1$\n",
        "*   $5-3-1$\n",
        "*   $+--2$\n",
        "*   $-5/2-2$\n",
        "*   $-5//2-2$\n",
        "*   $3\\%2/5-8*3*15+18/8-*5$\n",
        "\n"
      ]
    },
    {
      "cell_type": "code",
      "metadata": {
        "colab": {
          "base_uri": "https://localhost:8080/"
        },
        "id": "Mf_b2h4TKt5-",
        "outputId": "fe825eeb-a271-433d-8e21-7a4b39473a80"
      },
      "source": [
        "#Escribe las expresiones aqu\n",
        "(3%2/5-(2/5)-(8*3*15)+(18/8))*(-5)\n",
        "\n"
      ],
      "execution_count": 19,
      "outputs": [
        {
          "output_type": "execute_result",
          "data": {
            "text/plain": [
              "1789.75"
            ]
          },
          "metadata": {
            "tags": []
          },
          "execution_count": 19
        }
      ]
    },
    {
      "cell_type": "markdown",
      "metadata": {
        "id": "CetBvTDMK6xS"
      },
      "source": [
        "<details>\n",
        "<summary>Dale a la flecha si necesitas una pista</summary>\n",
        "<pre><code>\n",
        "2*(3-1) #solo escribe las expresiones y prueba ejecutando el programa\n",
        "\n",
        "<code><pre>\n",
        "</details>"
      ]
    },
    {
      "cell_type": "markdown",
      "metadata": {
        "id": "-b6GsA30N559"
      },
      "source": [
        "## Conversor de Divisas\n",
        "Realizar un programa que dada una cantidad de dinero en dolares, la convierta a pesos  [Tasa Dolar](https://www.banrep.gov.co/es/estadisticas/trm)"
      ]
    },
    {
      "cell_type": "code",
      "metadata": {
        "id": "KLDCoPp0OByh",
        "outputId": "4bb515c1-3d73-41d9-df35-19eac3f3f957",
        "colab": {
          "base_uri": "https://localhost:8080/"
        }
      },
      "source": [
        "x=3734\n",
        "y=500\n",
        "p=y*x\n",
        "print(y,'dollar =',p,'pesos colombianos')\n",
        "\n"
      ],
      "execution_count": 34,
      "outputs": [
        {
          "output_type": "stream",
          "text": [
            "500 dollar = 1867000 pesos colombianos\n"
          ],
          "name": "stdout"
        }
      ]
    },
    {
      "cell_type": "markdown",
      "metadata": {
        "id": "ONXmRBA_OCIm"
      },
      "source": [
        "<details>\n",
        "<summary>Dale a la flecha si necesitas una pista</summary>\n",
        "<pre>\n",
        "<code>\n",
        "dolares = 500\n",
        "pesos = #Formula de conversión\n",
        "print() #escribe un mensaje con la respuesta\n",
        "<code>\n",
        "<pre>\n",
        "</details>"
      ]
    },
    {
      "cell_type": "markdown",
      "metadata": {
        "id": "4LvEwrjUZKTq"
      },
      "source": [
        "# Gordo, ¿Quien yo?\n",
        "El índice de masa corporal **(IMC)** es un método utilizado para estimar la cantidad de grasa corporal que tiene una persona, y determinar por tanto si el peso está dentro del rango normal, o por el contrario, se tiene sobrepeso o delgadez. tomado de este sitio [IMC](https://cuidateplus.marca.com/alimentacion/diccionario/indice-masa-corporal-imc.html)\n",
        "\n",
        "Para no herir susceptibilidades, solo calcularemos el IMC y no diremos nada del sobrepeso. La fórmula para calcular el IMC es la siguiente\n",
        "$$\\frac{peso(kg)}{{altura(mt)}^2}$$\n",
        "\n",
        "## !Hagamos el programa!"
      ]
    },
    {
      "cell_type": "code",
      "metadata": {
        "id": "4kDsPZUcZQJI",
        "outputId": "620963a6-18fd-48f3-8856-97d18b7972b6",
        "colab": {
          "base_uri": "https://localhost:8080/"
        }
      },
      "source": [
        "# Calculo del IMC\n",
        "altura=1.75\n",
        "peso=85\n",
        "# Sigue el programa aqui\n",
        "IMC=(peso/(altura**2))\n",
        "print('IMC =',IMC)"
      ],
      "execution_count": 44,
      "outputs": [
        {
          "output_type": "stream",
          "text": [
            "IMC = 27.755102040816325\n"
          ],
          "name": "stdout"
        }
      ]
    },
    {
      "cell_type": "markdown",
      "metadata": {
        "id": "BDnGTPysZWnC"
      },
      "source": [
        "<details>\n",
        "<summary>Dale a la flecha si necesitas una pista</summary>\n",
        "<pre>\n",
        "<code>\n",
        "altura=1.75\n",
        "peso=85\n",
        "imc=# completa la fórmula\n",
        "print() #escribe un mensaje con todos los datos, peso, altura e imc\n",
        "<code><pre>\n",
        "<code>\n",
        "<pre>\n",
        "</details>"
      ]
    },
    {
      "cell_type": "markdown",
      "metadata": {
        "id": "Y9CX4EM-Znr0"
      },
      "source": [
        "---\n",
        "\n",
        "FINAL DEL LABORATORIO\n",
        "\n",
        "---\n",
        "\n"
      ]
    }
  ]
}