{
  "nbformat": 4,
  "nbformat_minor": 0,
  "metadata": {
    "colab": {
      "name": "Funciones Listas.ipynb",
      "provenance": [],
      "collapsed_sections": [],
      "include_colab_link": true
    },
    "kernelspec": {
      "name": "python3",
      "display_name": "Python 3"
    },
    "language_info": {
      "name": "python"
    }
  },
  "cells": [
    {
      "cell_type": "markdown",
      "metadata": {
        "id": "view-in-github",
        "colab_type": "text"
      },
      "source": [
        "<a href=\"https://colab.research.google.com/github/aledroza/mision-tic/blob/main/Funciones_Listas.ipynb\" target=\"_parent\"><img src=\"https://colab.research.google.com/assets/colab-badge.svg\" alt=\"Open In Colab\"/></a>"
      ]
    },
    {
      "cell_type": "markdown",
      "metadata": {
        "id": "7DHKiOy2DTYx"
      },
      "source": [
        "Laboratorio 4.2\n",
        "Elaborado por Oscar Franco-Bedoya\n",
        "\n",
        "`Proyecto Mision TIC 2021\n",
        "\n",
        "# Objetivo\n",
        "Una de las ventajas de Python es la gran cantidad de librerías (componentes) que tiene para el manejo de muchos dominios, por ejemplo: visualización, inteligencia artificial, machine Learning, estadística entre otros. \n",
        "\n",
        "En este laboratorio vamos a practicar las funciones más utilizadas para el manejo de listas, sin embargo no olviden que en la web encuentras mucha más información al respecto. [Listas en Python](https://docs.python.org/3/tutorial/datastructures.html)\n",
        "\n",
        "# Contexto\n",
        "Para no trabajar de manera *fría y vacía* (como canción de Héctor Lavoe) con las listas, vamos a trabajar un contexto típico. Una lista de estudiantes y sus notas definitivas. (*Super original*)\n",
        "\n",
        "Un detalle adicional, para no manejar solo las notas, tendremos una lista de nombres de los estudiantes.\n"
      ]
    },
    {
      "cell_type": "code",
      "metadata": {
        "colab": {
          "base_uri": "https://localhost:8080/"
        },
        "id": "Agyvfk67wP-x",
        "outputId": "fbebe050-7b05-464a-ddf3-fa65fa99a3c4"
      },
      "source": [
        "\"\"\"\n",
        "---------------------------------\n",
        "  Definición de las listas\n",
        "---------------------------------\n",
        "\"\"\"\n",
        "notas_definitivas=[3.2,4.0,5.0,1.2,0.0,3.3,2.95,4.1,2.5,3.6]\n",
        "nombre_estudiantes=[\"Sid\",\"Woody\",\"Andy\",\"Little Bo\",\"Buzz\",\"Jessie\",\"Slinky\",\"Mr. Potato\",\"Emily\",\"Barbie\"]\n",
        "\n",
        "\"\"\"\n",
        "---------------------------------\n",
        "  Numero de elementos de las listas\n",
        "---------------------------------\n",
        "\"\"\"\n",
        "print(len(notas_definitivas))\n",
        "print(len(nombre_estudiantes))\n",
        "\n",
        "\n",
        "\"\"\"\n",
        "---------------------------------\n",
        "  Listar los elementos de las listas\n",
        "---------------------------------\n",
        "\"\"\"\n",
        "print(notas_definitivas)\n",
        "print(nombre_estudiantes)"
      ],
      "execution_count": 1,
      "outputs": [
        {
          "output_type": "stream",
          "text": [
            "10\n",
            "10\n",
            "[3.2, 4.0, 5.0, 1.2, 0.0, 3.3, 2.95, 4.1, 2.5, 3.6]\n",
            "['Sid', 'Woody', 'Andy', 'Little Bo', 'Buzz', 'Jessie', 'Slinky', 'Mr. Potato', 'Emily', 'Barbie']\n"
          ],
          "name": "stdout"
        }
      ]
    },
    {
      "cell_type": "markdown",
      "metadata": {
        "id": "RMtDFjoANb8L"
      },
      "source": [
        "# Adicionando elementos a la lista\n",
        "## Append\n",
        "*  Vamos a adicionar un nuevo estudiante al final de la lista y su respectiva nota.\n",
        "\n",
        "\n",
        "\n"
      ]
    },
    {
      "cell_type": "code",
      "metadata": {
        "colab": {
          "base_uri": "https://localhost:8080/"
        },
        "id": "29rf1SXEON1f",
        "outputId": "84f6018f-cef6-4b78-83b3-61d9b0369983"
      },
      "source": [
        "\"\"\"\n",
        "---------------------------------\n",
        "  Adicionar un elemento al final de las listas\n",
        "---------------------------------\n",
        "\"\"\"\n",
        "nombre_estudiantes.append(\"Daisy\")\n",
        "notas_definitivas.append(3.1)\n",
        "\n",
        "print(notas_definitivas)\n",
        "print(nombre_estudiantes)"
      ],
      "execution_count": 2,
      "outputs": [
        {
          "output_type": "stream",
          "text": [
            "[3.2, 4.0, 5.0, 1.2, 0.0, 3.3, 2.95, 4.1, 2.5, 3.6, 3.1]\n",
            "['Sid', 'Woody', 'Andy', 'Little Bo', 'Buzz', 'Jessie', 'Slinky', 'Mr. Potato', 'Emily', 'Barbie', 'Daisy']\n"
          ],
          "name": "stdout"
        }
      ]
    },
    {
      "cell_type": "markdown",
      "metadata": {
        "id": "Av_iIAgowQ6B"
      },
      "source": [
        "## Extends\n",
        "\n",
        "\n",
        "*   Tambien es posible adicionar un conjunto de elementos a una lista"
      ]
    },
    {
      "cell_type": "code",
      "metadata": {
        "colab": {
          "base_uri": "https://localhost:8080/"
        },
        "id": "GR67a4hvQ0kT",
        "outputId": "fdd78d0a-6232-4f6c-8ca2-ea2ced543d30"
      },
      "source": [
        "\"\"\"\n",
        "---------------------------------\n",
        "  Adicionar varios elementos al final de las listas\n",
        "---------------------------------\n",
        "\"\"\"\n",
        "nombre_estudiantes.extend([\"Daisy\",\"Wheezy\"])\n",
        "notas_definitivas.extend([2.5,3.3])\n",
        "\n",
        "print(notas_definitivas)\n",
        "print(nombre_estudiantes)\n"
      ],
      "execution_count": null,
      "outputs": [
        {
          "output_type": "stream",
          "text": [
            "[3.2, 4.0, 5.0, 1.2, 0.0, 3.3, 2.95, 4.1, 2.5, 3.6, 3.1, 2.5, 3.3]\n",
            "['Sid', 'Woody', 'Andy', 'Little Bo', 'Buzz', 'Jessie', 'Slinky', 'Mr. Potato', 'Emily', 'Barbie', 'Daisy', 'Daisy', 'Wheezy']\n"
          ],
          "name": "stdout"
        }
      ]
    },
    {
      "cell_type": "markdown",
      "metadata": {
        "id": "KQw8Pbcqtpgh"
      },
      "source": [
        ""
      ]
    },
    {
      "cell_type": "markdown",
      "metadata": {
        "id": "cEW_-JhzR7X6"
      },
      "source": [
        "## Insert\n",
        "*  No solo es posible adicionar elementos al final de la lista, tabien lo podemos hacer en una posición dada. "
      ]
    },
    {
      "cell_type": "code",
      "metadata": {
        "colab": {
          "base_uri": "https://localhost:8080/"
        },
        "id": "cpjX_m40Sdpx",
        "outputId": "2f804a63-e91e-4408-a5a6-1ec1f0a3af39"
      },
      "source": [
        "\"\"\"\n",
        "---------------------------------\n",
        "  Adicionar un elemento en una posición específica\n",
        "---------------------------------\n",
        "\"\"\"\n",
        "nombre_estudiantes.insert(2,\"Rejean\")\n",
        "notas_definitivas.insert(2,0.0)\n",
        "\n",
        "print(notas_definitivas)\n",
        "print(nombre_estudiantes)\n"
      ],
      "execution_count": 3,
      "outputs": [
        {
          "output_type": "stream",
          "text": [
            "[3.2, 4.0, 0.0, 5.0, 1.2, 0.0, 3.3, 2.95, 4.1, 2.5, 3.6, 3.1]\n",
            "['Sid', 'Woody', 'Rejean', 'Andy', 'Little Bo', 'Buzz', 'Jessie', 'Slinky', 'Mr. Potato', 'Emily', 'Barbie', 'Daisy']\n"
          ],
          "name": "stdout"
        }
      ]
    },
    {
      "cell_type": "markdown",
      "metadata": {
        "id": "3Va7rp7FTSEI"
      },
      "source": [
        "# Eliminando elementos de la lista\n",
        "Podemos eliminar un elemento de la lista dado su valor, simplemente con llamar, la función remove(elemento) que eliminará solamente la primera aparición del elemento en la lista (ya que puede estar repetido)\n",
        "\n",
        "\n",
        "\n",
        "```\n",
        "nombre_estudiantes.remove(\"Daisy\")\n",
        "# Elimina la primera aparición de Daisy en la lista\n",
        "```\n",
        "**Importante**\n",
        "\n",
        "Para este ejercicio estamos manejando dos listas cuyos elementos coinciden uno a uno, es decir si eliminamos a Daisy debemos eliminar su nota que es 3.1, y no se puede utilizar remove ya que esta borraría la primera nota con un valor de 3.1 sin importar de quien es.\n",
        "\n",
        "*¿Entiendes el problema?*\n",
        "\n",
        "Afortunadamente tenemos una función que elimina un elemento dada su posición y antes de que pegunten también una que retorna la posición de un elemento.\n",
        "\n",
        "\n",
        "\n"
      ]
    },
    {
      "cell_type": "code",
      "metadata": {
        "colab": {
          "base_uri": "https://localhost:8080/"
        },
        "id": "hLw9DkVHVyNw",
        "outputId": "f6f9576d-d40d-42cb-a23e-a22f19b66b84"
      },
      "source": [
        "\"\"\"\n",
        "---------------------------------\n",
        "  Eliminar  un elemento de la lista\n",
        "  ---------------------------------\n",
        "\"\"\"\n",
        "\n",
        "# Antes de eliminar a Daisy debemos saber su posición\n",
        "pos_elemento=nombre_estudiantes.index(\"Daisy\") \n",
        "print(pos_elemento)\n",
        "\n",
        "# Ahora la eliminamos por su nombre\n",
        "nombre_estudiantes.remove(\"Daisy\") \n",
        "\n",
        "print(nombre_estudiantes)\n",
        "\n",
        "# Ahora la eliminamos su nota de la lista de notas, dada su posición\n",
        "notas_definitivas.pop(pos_elemento) \n",
        "\n",
        "print(notas_definitivas)\n",
        "\n",
        "\n",
        "\n"
      ],
      "execution_count": 4,
      "outputs": [
        {
          "output_type": "stream",
          "text": [
            "11\n",
            "['Sid', 'Woody', 'Rejean', 'Andy', 'Little Bo', 'Buzz', 'Jessie', 'Slinky', 'Mr. Potato', 'Emily', 'Barbie']\n",
            "[3.2, 4.0, 0.0, 5.0, 1.2, 0.0, 3.3, 2.95, 4.1, 2.5, 3.6]\n"
          ],
          "name": "stdout"
        }
      ]
    },
    {
      "cell_type": "markdown",
      "metadata": {
        "id": "fWqaq-I9Yjx4"
      },
      "source": [
        "# Invertir elementos de la lista\n",
        "Invierte el orden en que se encuentran los elementos en la lista\n"
      ]
    },
    {
      "cell_type": "code",
      "metadata": {
        "colab": {
          "base_uri": "https://localhost:8080/"
        },
        "id": "RB7OsScJYyCM",
        "outputId": "7670e62d-8093-4db4-c6d9-a39e17a3a093"
      },
      "source": [
        "print(notas_definitivas)\n",
        "print(nombre_estudiantes)\n",
        "\n",
        "notas_definitivas.reverse()\n",
        "nombre_estudiantes.reverse()\n",
        "print(\"----------------------------------------------------------------------\")\n",
        "print(notas_definitivas)\n",
        "print(nombre_estudiantes)"
      ],
      "execution_count": 5,
      "outputs": [
        {
          "output_type": "stream",
          "text": [
            "[3.2, 4.0, 0.0, 5.0, 1.2, 0.0, 3.3, 2.95, 4.1, 2.5, 3.6]\n",
            "['Sid', 'Woody', 'Rejean', 'Andy', 'Little Bo', 'Buzz', 'Jessie', 'Slinky', 'Mr. Potato', 'Emily', 'Barbie']\n",
            "----------------------------------------------------------------------\n",
            "[3.6, 2.5, 4.1, 2.95, 3.3, 0.0, 1.2, 5.0, 0.0, 4.0, 3.2]\n",
            "['Barbie', 'Emily', 'Mr. Potato', 'Slinky', 'Jessie', 'Buzz', 'Little Bo', 'Andy', 'Rejean', 'Woody', 'Sid']\n"
          ],
          "name": "stdout"
        }
      ]
    },
    {
      "cell_type": "markdown",
      "metadata": {
        "id": "nKEbg-u5Zbom"
      },
      "source": [
        "# Copia de la lista\n",
        "Es similar a la de clonar la lista, retorna una copia de una lista"
      ]
    },
    {
      "cell_type": "code",
      "metadata": {
        "colab": {
          "base_uri": "https://localhost:8080/"
        },
        "id": "GaRjW_7kZoXp",
        "outputId": "2032ecb2-1f0c-4e59-cef9-c2aaf38f0b2c"
      },
      "source": [
        "copia_nombres=nombre_estudiantes.copy()\n",
        "print(copia_nombres)\n",
        "\n",
        "copia_notas=notas_definitivas.copy()\n",
        "print(copia_notas)\n",
        "\n"
      ],
      "execution_count": 6,
      "outputs": [
        {
          "output_type": "stream",
          "text": [
            "['Barbie', 'Emily', 'Mr. Potato', 'Slinky', 'Jessie', 'Buzz', 'Little Bo', 'Andy', 'Rejean', 'Woody', 'Sid']\n",
            "[3.6, 2.5, 4.1, 2.95, 3.3, 0.0, 1.2, 5.0, 0.0, 4.0, 3.2]\n"
          ],
          "name": "stdout"
        }
      ]
    },
    {
      "cell_type": "markdown",
      "metadata": {
        "id": "q5dJGGeUZ7Dw"
      },
      "source": [
        "# Ordenando los elementos de una lista\n",
        "Esta función nos permite ordenar una lista, vamos a hacerlo con sus copias ya que al ordenar se pierde la relación estudiante nota. ¿Entiendes por qué?"
      ]
    },
    {
      "cell_type": "code",
      "metadata": {
        "colab": {
          "base_uri": "https://localhost:8080/"
        },
        "id": "RTIh11CYakDq",
        "outputId": "26fa5cd2-0e40-4e18-9685-0422a487a348"
      },
      "source": [
        "copia_nombres.sort() #Ordena la lista original, no es una copia ordenada de la lista\n",
        "print(copia_nombres)\n",
        "\n",
        "copia_notas.sort() #Ordena la lista original, no es una copia ordenada de la lista\n",
        "print(copia_notas)\n"
      ],
      "execution_count": 7,
      "outputs": [
        {
          "output_type": "stream",
          "text": [
            "['Andy', 'Barbie', 'Buzz', 'Emily', 'Jessie', 'Little Bo', 'Mr. Potato', 'Rejean', 'Sid', 'Slinky', 'Woody']\n",
            "[0.0, 0.0, 1.2, 2.5, 2.95, 3.2, 3.3, 3.6, 4.0, 4.1, 5.0]\n"
          ],
          "name": "stdout"
        }
      ]
    },
    {
      "cell_type": "markdown",
      "metadata": {
        "id": "hapHYJPBbSA7"
      },
      "source": [
        "# Eliminando los elementos de una lista\n"
      ]
    },
    {
      "cell_type": "code",
      "metadata": {
        "colab": {
          "base_uri": "https://localhost:8080/"
        },
        "id": "NxP3mvkTbrdP",
        "outputId": "f714788f-f3c4-4e06-c6a6-62f1c3a787d7"
      },
      "source": [
        "copia_nombres.clear()\n",
        "print(copia_nombres)\n",
        "\n",
        "copia_notas.clear() \n",
        "print(copia_notas)"
      ],
      "execution_count": 8,
      "outputs": [
        {
          "output_type": "stream",
          "text": [
            "[]\n",
            "[]\n"
          ],
          "name": "stdout"
        }
      ]
    },
    {
      "cell_type": "markdown",
      "metadata": {
        "id": "DtVmDIO2b0eM"
      },
      "source": [
        "# Frecuencia de un elemento\n",
        "Podemos saber el número de veces que un valor esta en la lista."
      ]
    },
    {
      "cell_type": "code",
      "metadata": {
        "colab": {
          "base_uri": "https://localhost:8080/"
        },
        "id": "6Sipc0-UcGOK",
        "outputId": "988faaa5-f2a4-49a8-a138-20117e2b32d3"
      },
      "source": [
        "frecuencia=notas_definitivas.count(3.3)\n",
        "print(frecuencia)"
      ],
      "execution_count": 9,
      "outputs": [
        {
          "output_type": "stream",
          "text": [
            "1\n"
          ],
          "name": "stdout"
        }
      ]
    },
    {
      "cell_type": "markdown",
      "metadata": {
        "id": "iYjzl9R7dHg2"
      },
      "source": [
        "# Ejercicio\n",
        "Ya que tenemos las notas calculemos el promedio de notas del grupo\n"
      ]
    },
    {
      "cell_type": "code",
      "metadata": {
        "id": "2KSXUVo8ddvA",
        "outputId": "50125f1d-675a-4293-d7f2-75eabeb338d6",
        "colab": {
          "base_uri": "https://localhost:8080/"
        }
      },
      "source": [
        "#Tu código aqui\n",
        "import math\n",
        "import statistics\n",
        "\n",
        "sumatoria_notas=0 #TODO: 1)\n",
        "sumatoria_notas=sum(notas_definitivas)\n",
        "print(notas_definitivas,'=',sumatoria_notas,'sumatoria')\n",
        "\n",
        "promedio_notas =0 #TODO: 2)\n",
        "promedio_notas=statistics.mean(notas_definitivas)\n",
        "print('promedio notas =',promedio_notas)"
      ],
      "execution_count": 34,
      "outputs": [
        {
          "output_type": "stream",
          "text": [
            "[0.0, 0.0, 1.2, 2.5, 2.95, 3.2, 3.3, 3.6, 4.0, 4.1, 5.0] = 29.85 sumatoria\n",
            "promedio notas = 2.713636363636364\n"
          ],
          "name": "stdout"
        }
      ]
    },
    {
      "cell_type": "markdown",
      "metadata": {
        "id": "2sXNsH7Pdeys"
      },
      "source": [
        "<details>\n",
        "<summary>Dale a la flecha si necesitas una pista</summary>\n",
        "<pre><code>\n",
        "1) investiga la función sum de Python y reemplázala por el cero\n",
        "2) un promedio es algo / algo\n",
        "\n",
        "<code><pre>\n",
        "</details>"
      ]
    },
    {
      "cell_type": "markdown",
      "metadata": {
        "id": "8dktDC6vclYT"
      },
      "source": [
        "---\n",
        "FIN LABORATORIO\n",
        "---"
      ]
    }
  ]
}