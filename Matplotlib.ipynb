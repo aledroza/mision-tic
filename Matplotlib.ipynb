{
  "nbformat": 4,
  "nbformat_minor": 0,
  "metadata": {
    "colab": {
      "name": "Matplotlib.ipynb",
      "provenance": [],
      "include_colab_link": true
    },
    "kernelspec": {
      "name": "python3",
      "display_name": "Python 3"
    },
    "language_info": {
      "name": "python"
    }
  },
  "cells": [
    {
      "cell_type": "markdown",
      "metadata": {
        "id": "view-in-github",
        "colab_type": "text"
      },
      "source": [
        "<a href=\"https://colab.research.google.com/github/aledroza/mision-tic/blob/main/Matplotlib.ipynb\" target=\"_parent\"><img src=\"https://colab.research.google.com/assets/colab-badge.svg\" alt=\"Open In Colab\"/></a>"
      ]
    },
    {
      "cell_type": "markdown",
      "metadata": {
        "id": "1jGfSpMhrIzv"
      },
      "source": [
        "# Laboratorio 6.4\n",
        "Elaborado por Oscar Franco-Bedoya\n",
        "\n",
        "`Proyecto Mision TIC 2021\n",
        "\n",
        "# Objetivo\n",
        "El objetivo de este laboratorio es realizar algunos ejercicios prácticas con la libreria [Matplotlib](https://matplotlib.org/)\n",
        "\n",
        "# Contexto\n",
        "matplotlib es una librería con funciones para crear gráficas de diferentes fuentes de datos.\n",
        "\n",
        "## Primer programa\n",
        "\n",
        "\n"
      ]
    },
    {
      "cell_type": "code",
      "metadata": {
        "id": "DkdTFaNnrAv6",
        "colab": {
          "base_uri": "https://localhost:8080/",
          "height": 264
        },
        "outputId": "e24b7e47-b44a-427c-d788-616147023d96"
      },
      "source": [
        "# Se importa la librería con el alias de plt\n",
        "import matplotlib.pyplot as plt\n",
        "\n",
        "# Fuente de datos\n",
        "datos=[1,2,3,4,5,6,7,8,9,10]\n",
        "\n",
        "# Grafica los datos:  la función plot asume que los datos ingresados son de la coordenada y \n",
        "plt.plot(datos)\n",
        "\n",
        "# adiciona un label al eje y\n",
        "plt.ylabel('Algunos números')\n",
        "\n",
        "#actualiza la imagen\n",
        "\n",
        "plt.show()"
      ],
      "execution_count": 1,
      "outputs": [
        {
          "output_type": "display_data",
          "data": {
            "image/png": "[encoded data removed]",
            "text/plain": [
              "<Figure size 432x288 with 1 Axes>"
            ]
          },
          "metadata": {
            "tags": [],
            "needs_background": "light"
          }
        }
      ]
    },
    {
      "cell_type": "markdown",
      "metadata": {
        "id": "xDxeeUFntuXF"
      },
      "source": [
        "# Datos para ambos ejes"
      ]
    },
    {
      "cell_type": "code",
      "metadata": {
        "id": "2Nels1pJtyfo",
        "colab": {
          "base_uri": "https://localhost:8080/",
          "height": 282
        },
        "outputId": "225ab0d9-b90d-40b2-8b14-44f467348e6e"
      },
      "source": [
        "# Se importa la librería con el alias de plt\n",
        "import matplotlib.pyplot as plt\n",
        "\n",
        "datosX=[1,2,3,4,5,6,7,8,9,10]\n",
        "datosY=[1,4,9,16,25,36,49,64,81,100]\n",
        "plt.plot(datosY,datosX)\n"
      ],
      "execution_count": 3,
      "outputs": [
        {
          "output_type": "execute_result",
          "data": {
            "text/plain": [
              "[<matplotlib.lines.Line2D at 0x7f1c31770090>]"
            ]
          },
          "metadata": {
            "tags": []
          },
          "execution_count": 3
        },
        {
          "output_type": "display_data",
          "data": {
            "image/png": "[encoded data removed]",
            "text/plain": [
              "<Figure size 432x288 with 1 Axes>"
            ]
          },
          "metadata": {
            "tags": [],
            "needs_background": "light"
          }
        }
      ]
    },
    {
      "cell_type": "markdown",
      "metadata": {
        "id": "1CgGzWfguixK"
      },
      "source": [
        "# Cambiando el formato"
      ]
    },
    {
      "cell_type": "code",
      "metadata": {
        "id": "LpysGoG4uoCl",
        "colab": {
          "base_uri": "https://localhost:8080/",
          "height": 282
        },
        "outputId": "a3f7ba83-66e5-4063-8583-e8ec30f42cda"
      },
      "source": [
        "# Se importa la librería con el alias de plt\n",
        "import matplotlib.pyplot as plt\n",
        "\n",
        "datosX=[1,2,3,4,5,6,7,8,9,10]\n",
        "datosY=[1,4,9,16,25,36,49,64,81,100]\n",
        "\n",
        "# Cambia el formato para que grafique de color rojo \"r\" y el símbolo o \n",
        "plt.plot(datosX,datosY,'r-')"
      ],
      "execution_count": 14,
      "outputs": [
        {
          "output_type": "execute_result",
          "data": {
            "text/plain": [
              "[<matplotlib.lines.Line2D at 0x7f1c311b5fd0>]"
            ]
          },
          "metadata": {
            "tags": []
          },
          "execution_count": 14
        },
        {
          "output_type": "display_data",
          "data": {
            "image/png": "[encoded data removed]",
            "text/plain": [
              "<Figure size 432x288 with 1 Axes>"
            ]
          },
          "metadata": {
            "tags": [],
            "needs_background": "light"
          }
        }
      ]
    },
    {
      "cell_type": "code",
      "metadata": {
        "id": "5dM-A3TIvBCN",
        "colab": {
          "base_uri": "https://localhost:8080/",
          "height": 268
        },
        "outputId": "64eaf45f-2e8a-452a-f808-adc037b835c0"
      },
      "source": [
        "# Se importa la librería con el alias de plt\n",
        "import matplotlib.pyplot as plt\n",
        "\n",
        "datosX=[1,2,3,4,5,6,7,8,9,10]\n",
        "datosY=[1,4,9,16,25,36,49,64,81,100]\n",
        "plt.plot(datosX,datosY,'rp')\n",
        "\n",
        "# Visualiza una porción de la grafica (zoom)\n",
        "plt.axis([0, 5, 0, 20]) #[xmin,xmax,ymin,ymax]\n",
        "plt.show()"
      ],
      "execution_count": 15,
      "outputs": [
        {
          "output_type": "display_data",
          "data": {
            "image/png": "[encoded data removed]",
            "text/plain": [
              "<Figure size 432x288 with 1 Axes>"
            ]
          },
          "metadata": {
            "tags": [],
            "needs_background": "light"
          }
        }
      ]
    },
    {
      "cell_type": "markdown",
      "metadata": {
        "id": "OHmbHRSxw_yk"
      },
      "source": [
        "# Graficando el seno de 0 a 360 "
      ]
    },
    {
      "cell_type": "code",
      "metadata": {
        "id": "Ug40tlBJxFwX",
        "colab": {
          "base_uri": "https://localhost:8080/",
          "height": 264
        },
        "outputId": "dca97b99-4547-4488-82e3-c4cdcc88f5c0"
      },
      "source": [
        "# Se importa la librería con el alias de plt\n",
        "import matplotlib.pyplot as plt\n",
        "import math\n",
        "\n",
        "def obtener_datos():\n",
        "  x=0\n",
        "  datos_x=[]\n",
        "  datos_y=[]\n",
        "  for ang in range(0,361):\n",
        "    datos_x.append(x)\n",
        "    datos_y.append(math.cos(math.radians(x)))\n",
        "    x+=1\n",
        "  return datos_x,datos_y\n",
        "\n",
        "def graficar_seno(dx,dy):\n",
        "  plt.plot(dx,dy,'r--')\n",
        "  \n",
        "  \n",
        "\n",
        "\n",
        "\n",
        "dx,dy= obtener_datos()\n",
        "graficar_seno(dx,dy)\n"
      ],
      "execution_count": 16,
      "outputs": [
        {
          "output_type": "display_data",
          "data": {
            "image/png": "[encoded data removed]",
            "text/plain": [
              "<Figure size 432x288 with 1 Axes>"
            ]
          },
          "metadata": {
            "tags": [],
            "needs_background": "light"
          }
        }
      ]
    },
    {
      "cell_type": "markdown",
      "metadata": {
        "id": "AX-WuX7NzN38"
      },
      "source": [
        "---\n",
        "FIN LABORATORIO\n",
        "\n",
        "---"
      ]
    }
  ]
}