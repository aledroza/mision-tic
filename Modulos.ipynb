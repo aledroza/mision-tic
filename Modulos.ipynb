{
  "nbformat": 4,
  "nbformat_minor": 0,
  "metadata": {
    "colab": {
      "name": "Modulos.ipynb",
      "provenance": [],
      "collapsed_sections": [],
      "include_colab_link": true
    },
    "kernelspec": {
      "name": "python3",
      "display_name": "Python 3"
    },
    "language_info": {
      "name": "python"
    }
  },
  "cells": [
    {
      "cell_type": "markdown",
      "metadata": {
        "id": "view-in-github",
        "colab_type": "text"
      },
      "source": [
        "<a href=\"https://colab.research.google.com/github/aledroza/mision-tic/blob/main/Modulos.ipynb\" target=\"_parent\"><img src=\"https://colab.research.google.com/assets/colab-badge.svg\" alt=\"Open In Colab\"/></a>"
      ]
    },
    {
      "cell_type": "markdown",
      "metadata": {
        "id": "biub9nUgZOKu"
      },
      "source": [
        "# Laboratorio 3.1\n",
        "\n",
        "*Elaborado por Oscar Franco-Bedoya*\n",
        "\n",
        "*`Proyecto Mision TIC 2021*\n",
        "\n",
        "\n",
        "## Objetivo\n",
        "Aplicar el concepto de modulos mediante la impementación de programas que utilizan librerias de Python como math y random.\n",
        "\n",
        "## La calculadora de Trigo\n",
        "### Contexto\n",
        "El profesor de matemáticas del colegio de la esquina ha decidido desarrollar un programa en Python que realiza las operaciones trigonométricas y así,  ayudar a sus estudiantes olvidadizos que olvidan traer su Calculadora científica para la clase:\n",
        "\n",
        "Las operaciones que desea realizar son\n",
        "-  Seno(a)\n",
        "-  Coseno(a)\n",
        "-  Tangente(a)\n",
        "-  Cotangente(a)\n",
        "-  Arcoseno(a)\n",
        "-  Arcocoseno(x)\n",
        "-  Arcotangente(x)\n",
        "\n",
        "x es un angulo en grados\n",
        "\n",
        "Como el profesor sabe de funciones en programación y entiende la importancia de la programación modular, ha decidido implementar la aplicación utilizando funciones\n"
      ]
    },
    {
      "cell_type": "code",
      "metadata": {
        "id": "dWT7C-5kcxkp",
        "colab": {
          "base_uri": "https://localhost:8080/"
        },
        "outputId": "140f5fe3-44f7-4e3d-ae9c-1643b937f7de"
      },
      "source": [
        "\"\"\" Laboratorio 3.1 La calculadora de Trigo \n",
        "    Oscar Franco-Bedoya\n",
        "    Mayo 10-2021 \"\"\"\n",
        "\n",
        "# Importar modulos/librerias\n",
        "import math as m\n",
        "\n",
        "# Definición de Funciones (Dividir)\n",
        "def calcular_seno(angulo_g):\n",
        "  \"\"\" \n",
        "  Parameters\n",
        "  ----------\n",
        "  nangulo_grados:float\n",
        "     un numero entre 0  y 360 que representa un ángulo en graados\n",
        "     math.sin( x ) \n",
        "    Devuelve el seno de x radianes.\n",
        "  -------\n",
        "  Return\n",
        "  seno:float\n",
        "    el seno del angulo_grados   \n",
        "  \"\"\"  \n",
        "  seno= m.sin(m.radians(angulo_g))\n",
        "  return seno\n",
        "\n",
        "#TODO: Ayudar al profe con las demás funciones\n",
        "\n",
        "def calcular_coseno(angulo_g):\n",
        "  \"\"\"\n",
        "  math.cos( x ) \n",
        "  Devuelve el coseno de x radianes.\n",
        "  \"\"\"\n",
        "  coseno=m.cos(m.radians(angulo_g))\n",
        "  return coseno\n",
        "\n",
        "def calcular_tangente(angulo_g):\n",
        "  \"\"\"\n",
        "  math.tan( x ) \n",
        "  Devuelve la tangente de x radianes.\n",
        "  \"\"\"\n",
        "  tangente=m.tan(m.radians(angulo_g))\n",
        "  return tangente\n",
        "\n",
        "def calcular_cotangente(angulo_g):\n",
        "  cotangente= 1/(m.tan(m.radians(angulo_g)))\n",
        "  return cotangente\n",
        "\n",
        "def calcular_arcoseno(angulo_g):\n",
        "  \"\"\"\n",
        "  Devuelve el arco seno de x , en radianes. \n",
        "  El resultado está entre -pi/2y pi/2.\n",
        "  \"\"\"\n",
        "  arcoseno=m.asin(m.radians(angulo_g))\n",
        "  return arcoseno\n",
        "\n",
        "def calcular_arcocoseno(angulo_g):\n",
        "  \"\"\"\n",
        "  math.acos( x ) \n",
        "  Devuelve el arco coseno de x , en radianes. \n",
        "  El resultado está entre 0y pi.\n",
        "  \"\"\"\n",
        "  arcocoseno=m.acos(m.radians(angulo_g))\n",
        "  return arcocoseno\n",
        "\n",
        "def calcular_arcotangente(angulo_grados):\n",
        "  \"\"\"\n",
        "  math.atan( x ) ¶\n",
        "  Devuelve el arco tangente de x , en radianes. \n",
        "  El resultado está entre -pi/2y pi/2.\n",
        "  \"\"\"\n",
        "  arcotangente=m.atan(m.radians(angulo_g))\n",
        "  return arcotangente\n",
        "\n",
        "#======================================================================\n",
        "#   Algoritmo principal Punto de entrada a la aplicación (Conquistar)\n",
        "# =====================================================================\n",
        "\n",
        "#lectura angulo\n",
        "angulo_g=float(input(\"Ingresa un ángulo entre 0 y 360 \"))\n",
        "r_seno=calcular_seno(angulo_g)\n",
        "r_coseno=calcular_coseno(angulo_g)\n",
        "r_tangente=calcular_tangente(angulo_g)\n",
        "r_cotangente=calcular_cotangente(angulo_g)\n",
        "r_arcoseno=calcular_arcoseno(angulo_g)\n",
        "r_arcocoseno=calcular_arcocoseno(angulo_g)\n",
        "r_arcotangente=calcular_arcotangente(angulo_g)\n",
        "print(\"Seno  (\",angulo_g,\")=\",r_seno  )\n",
        "print(\"Coseno(\",angulo_g,\")=\",r_coseno)\n",
        "print(\"Tangente(\",angulo_g,\")=\",r_tangente)\n",
        "print(\"Cotangente(\",angulo_g,\")=\",r_cotangente)\n",
        "print(\"Arcoseno(\",angulo_g,\")=\",r_arcoseno)\n",
        "print(\"Arcocoseno(\",angulo_g,\")=\",r_arcocoseno)\n",
        "print(\"Arcotangente(\",angulo_g,\")=\",r_arcotangente)"
      ],
      "execution_count": 21,
      "outputs": [
        {
          "output_type": "stream",
          "text": [
            "Ingresa un ángulo entre 0 y 360 30\n",
            "Seno  ( 30.0 )= 0.49999999999999994\n",
            "Coseno( 30.0 )= 0.8660254037844387\n",
            "Tangente( 30.0 )= 0.5773502691896257\n",
            "Cotangente( 30.0 )= 1.7320508075688774\n",
            "Arcoseno( 30.0 )= 0.5510695830994463\n",
            "Arcocoseno( 30.0 )= 1.0197267436954502\n",
            "Arcotangente( 30.0 )= 0.48234790710102493\n"
          ],
          "name": "stdout"
        }
      ]
    },
    {
      "cell_type": "markdown",
      "metadata": {
        "id": "C5-azyvVjiuC"
      },
      "source": [
        "## La raiz 4\n",
        "Nos han pedido un pequeño programa que calcule la raíz cuarta de un número. No se diga más, ¡a escribirlo en la siguiente celda de código!\n",
        "\n",
        "<details>\n",
        "<summary>Dale a la flecha si necesitas una pista</summary>\n",
        "<pre><code>\n",
        "Afortunadamente tenemos la lista de funciones de math\n",
        "<a href=\"https://docs.python.org/3/library/math.html\">Modulo math</a>\n",
        "Solo sera buscar la funcion respectiva ¿O no?\n",
        "<code><pre>\n",
        "</details>\n",
        "\n",
        "<details>\n",
        "<summary>Dale a la flecha si necesitas AUN MAS AYUDA</summary>\n",
        "<pre><code>\n",
        "Por ahi dicen que la raiz cuarta es la raiz cuadrada de la raiz cuadrada :\n",
        "<code><pre>\n",
        "</details>"
      ]
    },
    {
      "cell_type": "code",
      "metadata": {
        "id": "MhlfmYAugTHo",
        "colab": {
          "base_uri": "https://localhost:8080/"
        },
        "outputId": "189dd681-26f2-486d-f119-821043e703a7"
      },
      "source": [
        "import math as m\n",
        "\n",
        "valor=float(input(\"Ingresa un numero \"))\n",
        "#raiz_cuarta=m.sqrt(?()) #TODO: completar el código\n",
        "raiz_cuarta=m.sqrt(m.sqrt(valor))\n",
        "print('la raiz cuarta de',valor,'es',raiz_cuarta)\n"
      ],
      "execution_count": 1,
      "outputs": [
        {
          "output_type": "stream",
          "text": [
            "Ingresa un numero 8\n",
            "la raiz cuarta de 8.0 es 1.6817928305074292\n"
          ],
          "name": "stdout"
        }
      ]
    },
    {
      "cell_type": "markdown",
      "metadata": {
        "id": "wG5zN6mtmie5"
      },
      "source": [
        "## La raiz n\n",
        "Debido al éxito arrollador del programa que calcula la raíz cuarta, nos han pedido un programa que calcule cualquier raíz n (n número entero) para un numero dado.\n",
        "\n",
        "<details>\n",
        "<summary>Dale a la flecha si necesitas una pista</summary>\n",
        "<pre><code>\n",
        "La raiz nesima de X es igual a X elevado a la 1/n \n",
        "<code><pre>\n",
        "</details>"
      ]
    },
    {
      "cell_type": "code",
      "metadata": {
        "id": "GeeWnltUndFN",
        "colab": {
          "base_uri": "https://localhost:8080/"
        },
        "outputId": "5485f6e6-5954-4d07-fead-b203f5311efd"
      },
      "source": [
        "import math as m\n",
        "\n",
        "valor=float(input(\"Ingresa un numero \"))\n",
        "raiz=int(input(\"Ingresa la raiz que quieres calcular \"))\n",
        "#raiz_n=  #TODO: completar el código\n",
        "raiz_n=valor**(1/raiz)\n",
        "print('la raiz',raiz,'de el numero',valor,'es',raiz_n)\n"
      ],
      "execution_count": 2,
      "outputs": [
        {
          "output_type": "stream",
          "text": [
            "Ingresa un numero 8\n",
            "Ingresa la raiz que quieres calcular 4\n",
            "la raiz 4 de el numero 8.0 es 1.681792830507429\n"
          ],
          "name": "stdout"
        }
      ]
    },
    {
      "cell_type": "markdown",
      "metadata": {
        "id": "4PRJiceFYp1l"
      },
      "source": [
        "## Juego de Dados\n",
        "Vamos a realizar una función que simula el lanzamiento de un dado de 6 caras. Para ello se debe utilizar un modulo de Python llamado [random.py](https://docs.python.org/3/library/random.html) Dale clic para ver sus funciones.\n",
        "\n",
        "  "
      ]
    },
    {
      "cell_type": "code",
      "metadata": {
        "id": "HCIyUc26ZRyQ",
        "colab": {
          "base_uri": "https://localhost:8080/"
        },
        "outputId": "a463f92c-39cf-40b5-b01b-55b3bd483e6e"
      },
      "source": [
        "\"\"\" Laboratorio 3.1 Lanzamiento de dados \n",
        "    Oscar Franco-Bedoya\n",
        "    Mayo 10-2021 \"\"\"\n",
        "\n",
        "# Importar modulos/librerias\n",
        "\n",
        "#TODO: 1) Que debo importar aqui\n",
        "import random as r\n",
        "\n",
        "# Definición de Funciones (Dividir)\n",
        "def lanzar_dado():\n",
        "  #TODO: 2) Terminar la función\n",
        "  lanzar=r.randint(1,6)\n",
        "  return lanzar\n",
        " \n",
        "#======================================================================\n",
        "#   Algoritmo principal Punto de entrada a la aplicación (Conquistar)\n",
        "# =====================================================================\n",
        "\n",
        "#TODO: 3) Programa principal\n",
        "dado=lanzar_dado()\n",
        "print(\"valor del dado\",dado)\n"
      ],
      "execution_count": 25,
      "outputs": [
        {
          "output_type": "stream",
          "text": [
            "valor del dado 1\n"
          ],
          "name": "stdout"
        }
      ]
    },
    {
      "cell_type": "markdown",
      "metadata": {
        "id": "0T7ocoqoanYe"
      },
      "source": [
        "<details>\n",
        "<summary>Dale a la flecha si necesitas una pista</summary>\n",
        "<pre><code>\n",
        "1) para importar un modulo se usa la palabra import seguida del  nombre del módulo\n",
        "2) la función que genera un numero aleatorio es random.randint(1, 6)\n",
        "3) Solo llama a la fución lanzar_dado()\n",
        "\n",
        "<code><pre>\n",
        "</details>"
      ]
    },
    {
      "cell_type": "markdown",
      "metadata": {
        "id": "oaQy_yQQbOEY"
      },
      "source": [
        "## Dos dados\n",
        "Para hacer el juego mas interesante modifique el programa para que simule el lanzamiento de dos dados\n",
        "### NOTA\n",
        "No deben definirse mas funciones, solo modifique el programa principal \n",
        "\n",
        "<details>\n",
        "<summary>Dale a la flecha si necesitas una pista</summary>\n",
        "<pre><code>\n",
        "Recuerda que una función puede llamarse varias veces\n",
        "<code><pre>\n",
        "</details>"
      ]
    },
    {
      "cell_type": "code",
      "metadata": {
        "id": "io_YkS6ddEp2",
        "colab": {
          "base_uri": "https://localhost:8080/"
        },
        "outputId": "3b28a327-e849-47e3-f87c-010c025b1041"
      },
      "source": [
        "\"\"\" Laboratorio 3.1 Lanzamiento de DOS dados \n",
        "    Oscar Franco-Bedoya\n",
        "    Mayo 10-2021 \"\"\"\n",
        "#TODO: Copiar y pegar el anterior programa y cambiar el programa principal\n",
        "# Importar modulos/librerias\n",
        "\n",
        "#TODO: 1) Que debo importar aqui\n",
        "import random as r\n",
        "\n",
        "# Definición de Funciones (Dividir)\n",
        "def lanzar_dado():\n",
        "  #TODO: 2) Terminar la función\n",
        "  lanzar=r.randint(1,6)\n",
        "  return lanzar\n",
        " \n",
        "#======================================================================\n",
        "#   Algoritmo principal Punto de entrada a la aplicación (Conquistar)\n",
        "# =====================================================================\n",
        "\n",
        "#TODO: 3) Programa principal\n",
        "dado1=lanzar_dado()\n",
        "dado2=lanzar_dado()\n",
        "print(\"valor del dado1:\",dado1)\n",
        "print(\"valor del dado2:\",dado2)"
      ],
      "execution_count": 34,
      "outputs": [
        {
          "output_type": "stream",
          "text": [
            "valor del dado1: 5\n",
            "valor del dado2: 2\n"
          ],
          "name": "stdout"
        }
      ]
    },
    {
      "cell_type": "markdown",
      "metadata": {
        "id": "Ch_F5aGgeUFS"
      },
      "source": [
        "---\n",
        "\n",
        "FINAL LABORATORIO\n",
        "\n",
        "---"
      ]
    }
  ]
}