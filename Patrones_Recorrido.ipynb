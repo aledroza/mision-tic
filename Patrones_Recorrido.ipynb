{
  "nbformat": 4,
  "nbformat_minor": 0,
  "metadata": {
    "colab": {
      "name": "Patrones Recorrido.ipynb",
      "provenance": [],
      "collapsed_sections": [],
      "include_colab_link": true
    },
    "kernelspec": {
      "name": "python3",
      "display_name": "Python 3"
    },
    "language_info": {
      "name": "python"
    }
  },
  "cells": [
    {
      "cell_type": "markdown",
      "metadata": {
        "id": "view-in-github",
        "colab_type": "text"
      },
      "source": [
        "<a href=\"https://colab.research.google.com/github/aledroza/mision-tic/blob/main/Patrones_Recorrido.ipynb\" target=\"_parent\"><img src=\"https://colab.research.google.com/assets/colab-badge.svg\" alt=\"Open In Colab\"/></a>"
      ]
    },
    {
      "cell_type": "markdown",
      "metadata": {
        "id": "ifrgCy14rBfT"
      },
      "source": [
        "Laboratorio 4.3\n",
        "Elaborado por Oscar Franco-Bedoya\n",
        "\n",
        "`Proyecto Mision TIC 2021\n",
        "\n",
        "# Objetivo\n",
        "Implementar programas adaptando los patrones de recorrido en la solución de problemas específicos.\n",
        "\n",
        "# Ejercicio: Porcentaje aprobados\n",
        "Adiciona una nueva función al programa anterior que calcule el porcentaje de estudiantes que aprobaron el curso\n",
        "\n",
        "<details>\n",
        "<summary>Dale a la flecha si necesitas una pista</summary>\n",
        "<pre><code>\n",
        "\n",
        "\n",
        "```\n",
        "def calcular_porcentaje(total_estudiantes, total_aprobados):\n",
        "   #codigo que calcula el porcentaje\n",
        "  return procentaje\n",
        "```\n",
        "\n",
        "\n",
        "\n",
        "<code><pre>\n",
        "</details>"
      ]
    },
    {
      "cell_type": "code",
      "metadata": {
        "colab": {
          "base_uri": "https://localhost:8080/"
        },
        "id": "Z0LSs3Tsnx98",
        "outputId": "14047969-e559-44ea-988a-239e2cefc443"
      },
      "source": [
        "\"\"\" Programa Aprobados#\n",
        "    Calcula el numero de personas \n",
        "    que aprobaron un curso\n",
        "    con nota mayor o igual a 3.0\n",
        "    Oscar Franco-Bedoya\n",
        "    Mayo 15-2021 \"\"\"\n",
        "\n",
        "def calcular_aprobados(lista_notas):\n",
        "  \"\"\" \n",
        "  Parameters\n",
        "  ----------\n",
        "  lista_notas:lista [float]\n",
        "     Una lista de la notas definitivas de un grupo de estudiantes\n",
        "  ----------\n",
        "  Return\n",
        "     cantidad_aprovados: int \n",
        "     Numero de estudiantes que aprobaron la materia\n",
        "  \"\"\" \n",
        "  cantidad_aprobados=0\n",
        "  for nota in lista_notas: # recorrido total de la lista de notas\n",
        "    if nota >= 3.0:\n",
        "      cantidad_aprobados+=1\n",
        "  return cantidad_aprobados   \n",
        "#====================================================================\n",
        "#   Algoritmo principal Punto de entrada a la aplicación (Conquistar)\n",
        "# ===================================================================\n",
        "\n",
        "lista_notas=[3.2,4.0,5.0,1.2,0.0,3.3,2.95,4.1,2.5,3.6]\n",
        "aprobados=calcular_aprobados(lista_notas)\n",
        "print(\"El curso fue aprobado por\",aprobados,\"personas\")\n"
      ],
      "execution_count": 1,
      "outputs": [
        {
          "output_type": "stream",
          "text": [
            "El curso fue aprobado por 6 personas\n"
          ],
          "name": "stdout"
        }
      ]
    },
    {
      "cell_type": "code",
      "metadata": {
        "id": "RQDH4IpSuNtp",
        "outputId": "5ff8371c-d083-4f94-a36a-1663403597b9",
        "colab": {
          "base_uri": "https://localhost:8080/"
        }
      },
      "source": [
        "#TODO: implementar la función aqui\n",
        "def porcentaje_aprobados(aprobados,lista_notas):\n",
        "  porcentaje=aprobados *100/len(lista_notas)\n",
        "  return porcentaje\n",
        "#====================================================================\n",
        "#   Algoritmo principal Punto de entrada a la aplicación (Conquistar)\n",
        "# ===================================================================\n",
        "\n",
        "lista_notas=[3.2,4.0,5.0,1.2,0.0,3.3,2.95,4.1,2.5,3.6]\n",
        "aprobados=calcular_aprobados(lista_notas)\n",
        "porcentaje_ap=porcentaje_aprobados(aprobados,lista_notas)\n",
        "# TODO: llamar la función \n",
        "print(\"El curso fue aprobado por\",aprobados,\"personas\")\n",
        "print(\"porcentaje de aprobados\",porcentaje_ap,\"%\")\n"
      ],
      "execution_count": 5,
      "outputs": [
        {
          "output_type": "stream",
          "text": [
            "El curso fue aprobado por 6 personas\n",
            "porcentaje de aprobados 60.0 %\n"
          ],
          "name": "stdout"
        }
      ]
    },
    {
      "cell_type": "markdown",
      "metadata": {
        "id": "ii7KzoymvKBK"
      },
      "source": [
        "# Ejercicio: Notas por encima del promedio\n",
        "Un cálculo interesante para las notas de un grupo es calcular el número de estudiantes que obtuvieron una nota definitiva mayor o igual a promedio del grupo\n",
        "\n",
        "<details>\n",
        "<summary>Dale a la flecha si necesitas una pista</summary>\n",
        "<pre><code>\n",
        "\n",
        "\n",
        "```\n",
        "def calcular_promedio_grupo(lista_notas):\n",
        "  #codigo que calcula el promedio de notas\n",
        "  return promedio\n",
        "\n",
        "def calcular_encima_promedio(lista_notas):\n",
        "  #codigo que calcula el numero de notas encima del promedio\n",
        "  # llamar a la función calcular_promedio_grupo(lista_notas) en la función \n",
        "  return numero_encima_promedio\n",
        "   \n",
        "\n",
        "```\n",
        "\n",
        "\n",
        "\n",
        "<code><pre>\n",
        "</details>"
      ]
    },
    {
      "cell_type": "code",
      "metadata": {
        "colab": {
          "base_uri": "https://localhost:8080/"
        },
        "id": "rw6b9Z5J2vgj",
        "outputId": "27c947fa-076d-49e1-8329-02dbd350637c"
      },
      "source": [
        "def aprobar_propuesta(lista_votos):\n",
        "  mayoria_absoluta=len(lista_votos)//2 +1 \n",
        "  indice=0 \n",
        "  centinela = True  \n",
        "  votos_favor=0 \n",
        "  while centinela:\n",
        "    if lista_votos[indice]:\n",
        "      votos_favor+=1\n",
        "    indice+=1 \n",
        "    centinela= indice < len(lista_votos) and  votos_favor < mayoria_absoluta\n",
        "\n",
        "  if votos_favor >= mayoria_absoluta:\n",
        "    return True\n",
        "  else:\n",
        "    return False\n",
        "\n",
        "def aprobar_propuesta_2(lista_votos):\n",
        "  mayoria_absoluta=len(lista_votos)//2 +1 \n",
        "  centinela = True  \n",
        "  votos_favor=0 \n",
        "  for voto in lista_votos:\n",
        "    if voto:\n",
        "      votos_favor+=1\n",
        "    if votos_favor >= mayoria_absoluta:\n",
        "      return True  \n",
        "  return False\n",
        "#lista_votos=[1,2,3,5,6,7,8,9,10,11]\n",
        "lista_votos=[True,False,True,False,True,False,True,True,False,True]\n",
        "print(aprobar_propuesta(lista_votos))\n",
        "print(aprobar_propuesta_2(lista_votos))\n"
      ],
      "execution_count": 7,
      "outputs": [
        {
          "output_type": "stream",
          "text": [
            "True\n",
            "True\n"
          ],
          "name": "stdout"
        }
      ]
    },
    {
      "cell_type": "code",
      "metadata": {
        "colab": {
          "base_uri": "https://localhost:8080/"
        },
        "id": "_uv4tXZ1h2Oy",
        "outputId": "1ceb63f5-9ee5-4d15-a861-d98ccf3a3cd0"
      },
      "source": [
        "#lista_votos=[True,False,True,False,True,False,True,True,False,True]\n",
        "#lista_votos[:]\n",
        "\"\"\"\n",
        "Un cálculo interesante para las notas de un grupo es calcular el número de estudiantes que obtuvieron una nota definitiva mayor o igual a promedio del grupo\n",
        "\"\"\"\n",
        "import math\n",
        "def calcular_promedio_grupo(lista_notas):\n",
        "  #codigo que calcula el promedio de notas\n",
        "  promedio=sum(lista_notas)/len(lista_notas)\n",
        "  return promedio\n",
        " \n",
        "def calcular_encima_promedio(lista_notas):\n",
        "   # llamar a la función calcular_promedio_grupo(lista_notas) en la función \n",
        "  promedio=float(calcular_promedio_grupo(lista_notas))\n",
        "  #codigo que calcula el numero de notas encima del promedio\n",
        "  numero_encima_promedio=0\n",
        "  for nota in lista_notas: # recorrido total de la lista de notas\n",
        "    if nota >= promedio:\n",
        "      numero_encima_promedio=numero_encima_promedio+1\n",
        "  return numero_encima_promedio\n",
        "\n",
        "lista_notas=[3.2,4.0,5.0,1.2,0.0,3.3,2.95,4.1,2.5,3.6]\n",
        "promedio=float(calcular_promedio_grupo(lista_notas))\n",
        "mayor_promedio=float(calcular_encima_promedio(lista_notas))\n",
        "print(\"lista de notas\",lista_notas)\n",
        "print(\"El promedio de la lista de notas es =\",promedio)\n",
        "print(\"la cantidad de notas igual o superior al promedio es =\",mayor_promedio)\n",
        "\n",
        "\n"
      ],
      "execution_count": 1,
      "outputs": [
        {
          "output_type": "stream",
          "text": [
            "lista de notas [3.2, 4.0, 5.0, 1.2, 0.0, 3.3, 2.95, 4.1, 2.5, 3.6]\n",
            "El promedio de la lista de notas es = 2.9850000000000003\n",
            "la cantidad de notas igual o superior al promedio es = 6.0\n"
          ],
          "name": "stdout"
        }
      ]
    }
  ]
}